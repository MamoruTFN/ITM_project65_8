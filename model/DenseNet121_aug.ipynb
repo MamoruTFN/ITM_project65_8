{
 "cells": [
  {
   "cell_type": "code",
   "execution_count": 1,
   "metadata": {},
   "outputs": [],
   "source": [
    "%reload_ext autoreload\n",
    "%autoreload 2\n",
    "%matplotlib inline"
   ]
  },
  {
   "cell_type": "code",
   "execution_count": 7,
   "metadata": {},
   "outputs": [],
   "source": [
    "import matplotlib.pyplot as plt\n",
    "import numpy as np\n",
    "import os\n",
    "import PIL\n",
    "import tensorflow as tf\n",
    "import random\n",
    "import cv2\n",
    "\n",
    "from tensorflow import keras\n",
    "from tensorflow.keras import layers\n",
    "from tensorflow.keras.models import Sequential\n",
    "\n",
    "from tensorflow.keras.preprocessing.image import ImageDataGenerator,img_to_array\n",
    "\n",
    "from tensorflow.keras.applications import DenseNet121\n",
    "\n",
    "from sklearn.metrics import confusion_matrix\n",
    "from sklearn.preprocessing import LabelBinarizer\n",
    "from sklearn.model_selection import train_test_split\n",
    "\n",
    "import matplotlib.pyplot as plt\n",
    "\n",
    "from tensorflow.keras.layers import Dense,GlobalAveragePooling2D,Convolution2D,BatchNormalization\n",
    "from tensorflow.keras.layers import Flatten,MaxPooling2D,Dropout\n",
    "\n",
    "from tensorflow.keras.applications import DenseNet121\n",
    "from tensorflow.keras.applications.densenet import preprocess_input\n",
    "\n",
    "from tensorflow.keras.preprocessing import image\n",
    "from tensorflow.keras.preprocessing.image import ImageDataGenerator,img_to_array\n",
    "\n",
    "from tensorflow.keras.models import Model\n",
    "\n",
    "from tensorflow.keras.optimizers import Adam\n",
    "\n",
    "from tensorflow.keras.callbacks import ModelCheckpoint, ReduceLROnPlateau\n"
   ]
  },
  {
   "cell_type": "code",
   "execution_count": 7,
   "metadata": {},
   "outputs": [],
   "source": [
    "from keras.preprocessing.image import ImageDataGenerator\n",
    "from skimage import io\n",
    "\n",
    "datagen = ImageDataGenerator(    \n",
    "#        brightness_range=(0.2, 1.5),\n",
    "      rotation_range=270\n",
    "        )\n",
    "\n",
    "\n",
    "import numpy as np\n",
    "import os\n",
    "from PIL import Image\n",
    "def genimage(label):\n",
    "    image_directory = r'C:\\Users\\thanaphat turienngam\\Desktop\\Cassava\\classification\\dataset_aug\\trainwithaugment/'+ label +'/'\n",
    "    SIZE = 224\n",
    "    dataset = []\n",
    "    my_images = os.listdir(image_directory)\n",
    "    for i, image_name in enumerate(my_images):    \n",
    "        if (image_name.split('.')[1] == 'jpg'):        \n",
    "            image = io.imread(image_directory + image_name)        \n",
    "            image = Image.fromarray(image, 'RGB')        \n",
    "            image = image.resize((SIZE,SIZE)) \n",
    "            dataset.append(np.array(image))\n",
    "    x = np.array(dataset)\n",
    "    i = 0\n",
    "    for batch in datagen.flow(x, batch_size=856,\n",
    "                              save_to_dir= r'C:\\Users\\thanaphat turienngam\\Desktop\\Cassava\\classification\\dataset_aug_new/'+ label +'/',\n",
    "                              save_prefix='augment-'+label,\n",
    "                              save_format='jpg'):    \n",
    "        i += 1    \n",
    "        if i > 0:        \n",
    "            break\n",
    "\n",
    "label = [\"cbb\",\"healthy\"]\n",
    "for i in label:\n",
    "    genimage(i)\n"
   ]
  },
  {
   "cell_type": "code",
   "execution_count": null,
   "metadata": {},
   "outputs": [],
   "source": []
  },
  {
   "cell_type": "code",
   "execution_count": null,
   "metadata": {},
   "outputs": [],
   "source": []
  }
 ],
 "metadata": {
  "kernelspec": {
   "display_name": "Python 3 (ipykernel)",
   "language": "python",
   "name": "python3"
  },
  "language_info": {
   "codemirror_mode": {
    "name": "ipython",
    "version": 3
   },
   "file_extension": ".py",
   "mimetype": "text/x-python",
   "name": "python",
   "nbconvert_exporter": "python",
   "pygments_lexer": "ipython3",
   "version": "3.8.5"
  }
 },
 "nbformat": 4,
 "nbformat_minor": 5
}
